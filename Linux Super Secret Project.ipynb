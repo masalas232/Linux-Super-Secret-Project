{
 "cells": [
  {
   "cell_type": "markdown",
   "metadata": {},
   "source": [
    "# Linux \"Super Secret\" Project"
   ]
  },
  {
   "cell_type": "markdown",
   "metadata": {},
   "source": [
    "## Task 1\n",
    "\n",
    "- Create a folder called `super_secret_stuff` in your home directory and inside that folder create a file called `top_secret.txt`\n",
    "- `top_secret.txt` may contain whatever you wish\n",
    "- Once file is created use `updatedb` command and the `locate` command to find the path to `top_secret.txt`\n",
    "- Use redirection to save the path to a new file called `secret_place.txt`"
   ]
  },
  {
   "cell_type": "code",
   "execution_count": null,
   "metadata": {},
   "outputs": [],
   "source": [
    "## Linux Code for Task 1 \n",
    "\n",
    "mkdir ~/super_secret_stuff\n",
    "nano ~/super_secret_stuff/top_secret.txt #write what you wish in file\n",
    "sudo updatedb\n",
    "locate top_secret > ~/secret_place.txt"
   ]
  },
  {
   "cell_type": "markdown",
   "metadata": {},
   "source": [
    "## Task 2\n",
    "\n",
    "### Part A\n",
    "\n",
    "- Use `find` command to search entire file tree; starting from `/` directory for all files over 1 MegaByte in size. Use `maxdepth` option to limit `find` command's search to go only 4 levels deep. The search should only show files, not directories. \n",
    "- Use `-exec` option of `find` command to run the `ls -lh` command on each of those results\n",
    "- Hint: you will need admin permission to access all required folders\n",
    "\n",
    "### Part B\n",
    "\n",
    "- Sort output from Part A using the `sort` command. You should sort the data so that the largest file sizes are at the top of the list and the smalles files are at the bottom. \n",
    "- Using redirection, output this data to file called filesizes.txt in your home directory. "
   ]
  },
  {
   "cell_type": "code",
   "execution_count": null,
   "metadata": {},
   "outputs": [],
   "source": [
    "## Linux code for Task 2\n",
    "\n",
    "sudo find / -maxdepth 4 -type f -size +1M -exec ls -lh {} \\; | sort -k 5hr > ~/filesizes.txt"
   ]
  }
 ],
 "metadata": {
  "kernelspec": {
   "display_name": "Python 3",
   "language": "python",
   "name": "python3"
  },
  "language_info": {
   "codemirror_mode": {
    "name": "ipython",
    "version": 3
   },
   "file_extension": ".py",
   "mimetype": "text/x-python",
   "name": "python",
   "nbconvert_exporter": "python",
   "pygments_lexer": "ipython3",
   "version": "3.6.8"
  }
 },
 "nbformat": 4,
 "nbformat_minor": 2
}
